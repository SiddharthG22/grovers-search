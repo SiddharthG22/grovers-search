{
 "cells": [
  {
   "cell_type": "code",
   "execution_count": null,
   "id": "012ae296-6eac-4628-897e-c4cebb2871aa",
   "metadata": {
    "tags": []
   },
   "outputs": [],
   "source": [
    "import math\n",
    "\n",
    "from qiskit import QuantumCircuit\n",
    "from qiskit.circuit.library import GroverOperator, MCMT, ZGate\n",
    "from qiskit.visualization import plot_distribution\n",
    "\n",
    "from qiskit_ibm_runtime import QiskitRuntimeService, Sampler, Session"
   ]
  },
  {
   "cell_type": "code",
   "execution_count": null,
   "id": "188b036c-0b21-4d82-aac6-0488c99e8263",
   "metadata": {
    "tags": []
   },
   "outputs": [],
   "source": [
    "service = QiskitRuntimeService(channel=\"ibm_quantum\")"
   ]
  },
  {
   "cell_type": "code",
   "execution_count": null,
   "id": "4d47301d-17b9-4068-85d8-40307f5fa342",
   "metadata": {
    "tags": []
   },
   "outputs": [],
   "source": [
    "def grover_oracle(marked_states):\n",
    "    \n",
    "    if not isinstance(marked_states, list):\n",
    "        marked_states = [marked_states]\n",
    "    num_qubits = len(marked_states[0])\n",
    "\n",
    "    qc = QuantumCircuit(num_qubits)\n",
    "    for target in marked_states:\n",
    "        rev_target = target[::-1]\n",
    "        zero_inds = [ind for ind in range(num_qubits) if rev_target.startswith(\"0\", ind)]\n",
    "        qc.x(zero_inds)\n",
    "        qc.compose(MCMT(ZGate(), num_qubits - 1, 1), inplace=True)\n",
    "        qc.x(zero_inds)\n",
    "    return qc"
   ]
  },
  {
   "cell_type": "code",
   "execution_count": null,
   "id": "345216f9-d15d-4e3c-99c7-2c65ddfcfb9b",
   "metadata": {
    "tags": []
   },
   "outputs": [],
   "source": [
    "marked_states = [\"011\", \"100\"]\n",
    "\n",
    "oracle = grover_oracle(marked_states)\n",
    "oracle.draw(\"mpl\")"
   ]
  },
  {
   "cell_type": "code",
   "execution_count": null,
   "id": "dfdc50ae-7c56-4d94-8079-1655f7c42f89",
   "metadata": {
    "tags": []
   },
   "outputs": [],
   "source": [
    "grover_op = GroverOperator(oracle)\n",
    "grover_op.decompose().draw(\"mpl\")"
   ]
  },
  {
   "cell_type": "code",
   "execution_count": null,
   "id": "ca773cb8-eb63-4a2d-a7a8-57bac5164142",
   "metadata": {
    "tags": []
   },
   "outputs": [],
   "source": [
    "optimal_num_iterations = math.floor(\n",
    "    math.pi / 4 * math.sqrt(2**grover_op.num_qubits / len(marked_states))\n",
    ")"
   ]
  },
  {
   "cell_type": "code",
   "execution_count": null,
   "id": "a126d676-fda5-4e8e-98c8-cfc027350ead",
   "metadata": {
    "tags": []
   },
   "outputs": [],
   "source": [
    "qc = QuantumCircuit(grover_op.num_qubits)\n",
    "\n",
    "qc.h(range(grover_op.num_qubits))\n",
    "qc.compose(grover_op.power(optimal_num_iterations), inplace=True)\n",
    "qc.measure_all()\n",
    "qc.draw(\"mpl\")"
   ]
  },
  {
   "cell_type": "code",
   "execution_count": null,
   "id": "8539b9c1-0acc-40bb-a3a1-4136e7292fcf",
   "metadata": {
    "tags": []
   },
   "outputs": [],
   "source": [
    "# Amplitude Amplification\n",
    "\n",
    "backend_simulator = service.least_busy(simulator=True, operational=True)\n",
    "backend_simulator.name"
   ]
  },
  {
   "cell_type": "code",
   "execution_count": null,
   "id": "2a22d81b-5172-457e-b378-a8a98e085a15",
   "metadata": {
    "tags": []
   },
   "outputs": [],
   "source": [
    "sim_session = Session(backend=backend_simulator)\n",
    "sim_sampler = Sampler(session=sim_session)"
   ]
  },
  {
   "cell_type": "code",
   "execution_count": null,
   "id": "02776687-8e9f-4f70-9b93-a0b559e64d08",
   "metadata": {
    "tags": []
   },
   "outputs": [],
   "source": [
    "sim_dist = sim_sampler.run(qc, shots=int(1e4)).result().quasi_dists[0]"
   ]
  },
  {
   "cell_type": "code",
   "execution_count": null,
   "id": "6df565d5-6e6b-4561-bae3-7dc21ea2540a",
   "metadata": {
    "tags": []
   },
   "outputs": [],
   "source": [
    "plot_distribution(sim_dist.binary_probabilities())"
   ]
  },
  {
   "cell_type": "code",
   "execution_count": null,
   "id": "627b519d-7770-43cc-a008-90480e7d48a4",
   "metadata": {
    "tags": []
   },
   "outputs": [],
   "source": [
    "sim_session.close()"
   ]
  },
  {
   "cell_type": "code",
   "execution_count": null,
   "id": "ba7b45f6-f605-4560-b00f-08702aeeb428",
   "metadata": {
    "tags": []
   },
   "outputs": [],
   "source": [
    "backend = service.least_busy(simulator=False, operational=True)\n",
    "backend.name"
   ]
  },
  {
   "cell_type": "code",
   "execution_count": null,
   "id": "c27d4e17-a39a-494e-b539-f925f1d36a73",
   "metadata": {
    "tags": []
   },
   "outputs": [],
   "source": [
    "session = Session(backend=backend)\n",
    "real_sampler = Sampler(session=session)"
   ]
  },
  {
   "cell_type": "code",
   "execution_count": null,
   "id": "fad36935-60e7-4c60-9cdf-5ccb2ede5038",
   "metadata": {
    "tags": []
   },
   "outputs": [],
   "source": [
    "real_dist = real_sampler.run(qc, shots=int(1e4)).result().quasi_dists[0]"
   ]
  },
  {
   "cell_type": "code",
   "execution_count": null,
   "id": "94b4ecff-d29e-49a6-8d24-bdfb706c6112",
   "metadata": {
    "tags": []
   },
   "outputs": [],
   "source": [
    "plot_distribution(real_dist.binary_probabilities())"
   ]
  },
  {
   "cell_type": "code",
   "execution_count": null,
   "id": "fbbf02fb-ac9d-43a0-80c3-c1e49e314898",
   "metadata": {},
   "outputs": [],
   "source": [
    "session.close()"
   ]
  }
 ],
 "metadata": {
  "kernelspec": {
   "display_name": "Python 3 (ipykernel)",
   "language": "python",
   "name": "python3"
  },
  "language_info": {
   "codemirror_mode": {
    "name": "ipython",
    "version": 3
   },
   "file_extension": ".py",
   "mimetype": "text/x-python",
   "name": "python",
   "nbconvert_exporter": "python",
   "pygments_lexer": "ipython3",
   "version": "3.10.8"
  },
  "widgets": {
   "application/vnd.jupyter.widget-state+json": {
    "state": {},
    "version_major": 2,
    "version_minor": 0
   }
  }
 },
 "nbformat": 4,
 "nbformat_minor": 5
}
